{
 "cells": [
  {
   "cell_type": "markdown",
   "metadata": {},
   "source": [
    "# Machine Learning - Assignment 1\n",
    "\n",
    "## Naive Bayes Learning algorithm, Cross-validation, and ROC-Curves"
   ]
  },
  {
   "cell_type": "markdown",
   "metadata": {},
   "source": [
    "The aim of the assignment is to implement:\n",
    "\n",
    "* Naive Bayes learning algorithm for binary classification tasks\n",
    "* Visualization to plot a ROC-curve\n",
    "* A cross-validation test\n",
    "* Visualization of the average ROC-curve of a cross-validation test\n",
    "\n",
    "Follow the instructions and implement what is missing to complete the assignment. Some functions have been started to help you a little bit with the inputs or outputs of the function.\n",
    "\n",
    "**Note:** You might need to go back and forth during your implementation of the code. The structure is set up to make implementation easier, but how you return values from the different functions might vary, and you might find yourself going back and change something to make it easier later on."
   ]
  },
  {
   "cell_type": "markdown",
   "metadata": {},
   "source": [
    "## Assignment preparations"
   ]
  },
  {
   "cell_type": "markdown",
   "metadata": {},
   "source": [
    "We help you out with importing the libraries and reading the data.\n",
    "\n",
    "Look at the output to get an idea of how the data is structured."
   ]
  },
  {
   "cell_type": "code",
   "execution_count": 1,
   "metadata": {},
   "outputs": [
    {
     "name": "stdout",
     "output_type": "stream",
     "text": [
      "Full data array (features and labels):\n",
      "[[5.1 3.5 1.4 0.2 0]\n",
      " [4.9 3.0 1.4 0.2 0]\n",
      " [4.7 3.2 1.3 0.2 0]]\n",
      "\n",
      "###############\n",
      "\n",
      "Train features (first 4 columns):\n",
      "[[5.1 3.5 1.4 0.2]\n",
      " [4.9 3.0 1.4 0.2]\n",
      " [4.7 3.2 1.3 0.2]]\n",
      "\n",
      "Labels (last column):\n",
      "[[0]\n",
      " [0]\n",
      " [0]]\n",
      "\n",
      "Names of labels:\n",
      "[[0, 'Iris-setosa'], [1, 'Iris-versicolor'], [2, 'Iris-virginica']]\n"
     ]
    }
   ],
   "source": [
    "import numpy as np\n",
    "import pandas as pd\n",
    "import matplotlib.pyplot as plt\n",
    "\n",
    "from math import e, pi, sqrt\n",
    "\n",
    "data = pd.read_csv(\"iris.csv\").to_numpy()\n",
    "\n",
    "mapped, index, unique_arr = np.unique(data[:, -1], return_index=True, return_inverse=True)\n",
    "data[:, -1] = unique_arr\n",
    "iris_setosa, iris_versicolor, iris_virginica = np.split(data, index[1:])\n",
    "\n",
    "print(f\"Full data array (features and labels):\\n{iris_setosa[:3]}\\n\")\n",
    "print(\"###############\\n\")\n",
    "print(f\"Train features (first 4 columns):\\n{iris_setosa[:3, :-1]}\\n\")\n",
    "print(f\"Labels (last column):\\n{iris_setosa[:3, -1:]}\\n\")\n",
    "print(f\"Names of labels:\\n{[[numb, name] for numb, name in enumerate(mapped)]}\")"
   ]
  },
  {
   "cell_type": "code",
   "execution_count": 2,
   "metadata": {},
   "outputs": [
    {
     "data": {
      "text/plain": [
       "array([[5.1, 3.5, 1.4, 0.2, 0],\n",
       "       [4.9, 3.0, 1.4, 0.2, 0],\n",
       "       [4.7, 3.2, 1.3, 0.2, 0]], dtype=object)"
      ]
     },
     "execution_count": 2,
     "metadata": {},
     "output_type": "execute_result"
    }
   ],
   "source": [
    "# Example print of the 3 first datapoints (similar as above):\n",
    "iris_setosa[:3]"
   ]
  },
  {
   "cell_type": "markdown",
   "metadata": {},
   "source": [
    "## Data handling functions\n",
    "\n",
    "As a start, we are going to implement some basic data handling functions to use in the future."
   ]
  },
  {
   "cell_type": "markdown",
   "metadata": {},
   "source": [
    "### 1) Split class into a train and test set\n",
    "\n",
    "First, we need to be able to split the class into a train and test set."
   ]
  },
  {
   "cell_type": "code",
   "execution_count": 3,
   "metadata": {},
   "outputs": [],
   "source": [
    "\n",
    "def train_test_split(class_data):\n",
    "    \n",
    "    # TODO: Split the data into two parts, train and test.\n",
    "    # Numpy has some functionallity that makes implementing this part easier.\n",
    "    p = np.array([0.8, 0.2]) \n",
    "    train, test = np.split(class_data, [int(p[0]*len(class_data))])\n",
    "    return train, test"
   ]
  },
  {
   "cell_type": "code",
   "execution_count": 4,
   "metadata": {},
   "outputs": [
    {
     "name": "stdout",
     "output_type": "stream",
     "text": [
      "Train data:\n",
      "[[5.1 3.5 1.4 0.2 0]\n",
      " [4.9 3.0 1.4 0.2 0]\n",
      " [4.7 3.2 1.3 0.2 0]\n",
      " [4.6 3.1 1.5 0.2 0]\n",
      " [5.0 3.6 1.4 0.2 0]\n",
      " [5.4 3.9 1.7 0.4 0]\n",
      " [4.6 3.4 1.4 0.3 0]\n",
      " [5.0 3.4 1.5 0.2 0]\n",
      " [4.4 2.9 1.4 0.2 0]\n",
      " [4.9 3.1 1.5 0.1 0]\n",
      " [5.4 3.7 1.5 0.2 0]\n",
      " [4.8 3.4 1.6 0.2 0]\n",
      " [4.8 3.0 1.4 0.1 0]\n",
      " [4.3 3.0 1.1 0.1 0]\n",
      " [5.8 4.0 1.2 0.2 0]\n",
      " [5.7 4.4 1.5 0.4 0]\n",
      " [5.4 3.9 1.3 0.4 0]\n",
      " [5.1 3.5 1.4 0.3 0]\n",
      " [5.7 3.8 1.7 0.3 0]\n",
      " [5.1 3.8 1.5 0.3 0]\n",
      " [5.4 3.4 1.7 0.2 0]\n",
      " [5.1 3.7 1.5 0.4 0]\n",
      " [4.6 3.6 1.0 0.2 0]\n",
      " [5.1 3.3 1.7 0.5 0]\n",
      " [4.8 3.4 1.9 0.2 0]\n",
      " [5.0 3.0 1.6 0.2 0]\n",
      " [5.0 3.4 1.6 0.4 0]\n",
      " [5.2 3.5 1.5 0.2 0]\n",
      " [5.2 3.4 1.4 0.2 0]\n",
      " [4.7 3.2 1.6 0.2 0]\n",
      " [4.8 3.1 1.6 0.2 0]\n",
      " [5.4 3.4 1.5 0.4 0]\n",
      " [5.2 4.1 1.5 0.1 0]\n",
      " [5.5 4.2 1.4 0.2 0]\n",
      " [4.9 3.1 1.5 0.1 0]\n",
      " [5.0 3.2 1.2 0.2 0]\n",
      " [5.5 3.5 1.3 0.2 0]\n",
      " [4.9 3.1 1.5 0.1 0]\n",
      " [4.4 3.0 1.3 0.2 0]\n",
      " [5.1 3.4 1.5 0.2 0]]\n",
      "\n",
      "Test data:\n",
      "[[5.0 3.5 1.3 0.3 0]\n",
      " [4.5 2.3 1.3 0.3 0]\n",
      " [4.4 3.2 1.3 0.2 0]\n",
      " [5.0 3.5 1.6 0.6 0]\n",
      " [5.1 3.8 1.9 0.4 0]\n",
      " [4.8 3.0 1.4 0.3 0]\n",
      " [5.1 3.8 1.6 0.2 0]\n",
      " [4.6 3.2 1.4 0.2 0]\n",
      " [5.3 3.7 1.5 0.2 0]\n",
      " [5.0 3.3 1.4 0.2 0]]\n"
     ]
    }
   ],
   "source": [
    "# TODO: Test the train_test_split function\n",
    "train, test = train_test_split(iris_setosa)\n",
    "\n",
    "# TODO: Print the output\n",
    "print(f\"Train data:\\n{train}\\n\")\n",
    "print(f\"Test data:\\n{test}\") "
   ]
  },
  {
   "cell_type": "markdown",
   "metadata": {},
   "source": [
    "### 2) Split data into features and labels\n",
    "\n",
    "The data as shown above is not always the optimal shape. To help us keep track of things, we can split the data into its features and labels seperately.\n",
    "\n",
    "Each class is 4 features and 1 label in the same array: \n",
    "\n",
    "* **[feature 1, feature 2, feature 3, feature 4, label]**\n",
    "\n",
    "It would help us later to have the features and labels in seperate arrays in the form: \n",
    "\n",
    "* **[feature 1, feature 2, feature 3, feature 4]** and **[label]**\n",
    "\n",
    "Here you are going to implement this functionallity."
   ]
  },
  {
   "cell_type": "code",
   "execution_count": 5,
   "metadata": {},
   "outputs": [],
   "source": [
    "def class_split(data):\n",
    "\n",
    "    # TODO: Split one class into its features and labels\n",
    "    features = [item[:-1] for item in data] \n",
    "    labels = [item[-1] for item in data]\n",
    "    \n",
    "    return features, labels"
   ]
  },
  {
   "cell_type": "markdown",
   "metadata": {},
   "source": [
    "We should first test the \"**class_split**\" function on one of the classes above (iris_setosa, etc...) to make sure it works properly."
   ]
  },
  {
   "cell_type": "code",
   "execution_count": 6,
   "metadata": {},
   "outputs": [
    {
     "name": "stdout",
     "output_type": "stream",
     "text": [
      "Features:\n",
      "[array([5.1, 3.5, 1.4, 0.2], dtype=object), array([4.9, 3.0, 1.4, 0.2], dtype=object), array([4.7, 3.2, 1.3, 0.2], dtype=object)]\n",
      "\n",
      "Labels:\n",
      "[0, 0, 0]\n"
     ]
    }
   ],
   "source": [
    "# TODO: Test the class splitting function\n",
    "features, labels = class_split(iris_setosa)\n",
    "\n",
    "# TODO: Print the output\n",
    "print(\"Features:\") \n",
    "print(features[:3]) \n",
    "print(\"\\nLabels:\") \n",
    "print(labels[:3])"
   ]
  },
  {
   "cell_type": "markdown",
   "metadata": {},
   "source": [
    "We should also try to **1)** first split a class into a train and test set, **2)** split each of these two into features and abels. In total there should be 4 arrays (2 feature and 2 label arrays)."
   ]
  },
  {
   "cell_type": "code",
   "execution_count": 7,
   "metadata": {},
   "outputs": [
    {
     "name": "stdout",
     "output_type": "stream",
     "text": [
      "Train features:\n",
      "[array([5.1, 3.5, 1.4, 0.2], dtype=object), array([4.9, 3.0, 1.4, 0.2], dtype=object), array([4.7, 3.2, 1.3, 0.2], dtype=object)]\n",
      "\n",
      "Train labels:\n",
      "[0, 0, 0]\n",
      "\n",
      "Test features:\n",
      "[array([5.0, 3.5, 1.3, 0.3], dtype=object), array([4.5, 2.3, 1.3, 0.3], dtype=object), array([4.4, 3.2, 1.3, 0.2], dtype=object)]\n",
      "\n",
      "Test labels:\n",
      "[0, 0, 0]\n"
     ]
    }
   ],
   "source": [
    "# TODO: Use the above data handling functions to make 2 feature arrays and 2 label arrays. \n",
    "train_features, train_labels = class_split(train_test_split(iris_setosa)[0])\n",
    "test_features, test_labels= class_split(train_test_split(iris_setosa)[1])\n",
    "\n",
    "# TODO: Print the output (you may use multiple print-statements if you wish)\n",
    "print(\"Train features:\") \n",
    "print(train_features[:3])\n",
    "print(\"\\nTrain labels:\")\n",
    "print(train_labels[:3])\n",
    "print(\"\\nTest features:\") \n",
    "print(test_features[:3])\n",
    "print(\"\\nTest labels:\")\n",
    "print(test_labels[:3])"
   ]
  },
  {
   "cell_type": "markdown",
   "metadata": {},
   "source": [
    "Think a bit before going to the next task, what can easily go wrong in the above code?"
   ]
  },
  {
   "cell_type": "markdown",
   "metadata": {},
   "source": [
    "## Naive Bayes learning algorithm"
   ]
  },
  {
   "cell_type": "markdown",
   "metadata": {},
   "source": [
    "When implementing the Navie Bayes learning algorithm, we can break it down into a few components.\n",
    "\n",
    "We will implement these components one at a time."
   ]
  },
  {
   "cell_type": "markdown",
   "metadata": {},
   "source": [
    "### 3) Calculate feature statistics\n",
    "\n",
    "First, we need to implement a function that returns feature statistics (means, standard deviation, priors) for a given set of feature data for a single class. This is the equivalent of \"training\" the naive bayes model.\n",
    "\n",
    "**Note 1:** Each feature gets its own mean and standard deviation!\n",
    "\n",
    "**Note 2:** The way you structure the functions (what is returned) shapes the remainder of the assignment."
   ]
  },
  {
   "cell_type": "code",
   "execution_count": 8,
   "metadata": {},
   "outputs": [],
   "source": [
    "def calculate_feature_statistics(feature_data):\n",
    "    df = pd.DataFrame(feature_data, columns=[\"sepal_length\", \"sepal_width\", \"petal_length\", \"petal_width\"])\n",
    "    stats= pd.DataFrame({'mean':df.mean(), 'std':df.std()})\n",
    "    return stats\n"
   ]
  },
  {
   "cell_type": "markdown",
   "metadata": {},
   "source": [
    "To make sure the function works, we should test it before proceding."
   ]
  },
  {
   "cell_type": "code",
   "execution_count": 9,
   "metadata": {},
   "outputs": [
    {
     "name": "stdout",
     "output_type": "stream",
     "text": [
      "                mean       std\n",
      "sepal_length  5.0375  0.362107\n",
      "sepal_width   3.4400  0.364305\n",
      "petal_length  1.4625  0.171998\n",
      "petal_width   0.2325  0.099711\n",
      "              mean       std\n",
      "sepal_length  4.88  0.293636\n",
      "sepal_width   3.33  0.452278\n",
      "petal_length  1.47  0.188856\n",
      "petal_width   0.29  0.128668\n"
     ]
    }
   ],
   "source": [
    "# TODO: Make sure to use our previous class splitting function.\n",
    "\n",
    "train_features = np.array(train_features, dtype=float)\n",
    "test_features = np.array(test_features, dtype=float)\n",
    "\n",
    "# TODO: Test the function here for one of the dataset classes. \n",
    "features_staststic = calculate_feature_statistics(train_features)\n",
    "test_features_staststic = calculate_feature_statistics(test_features)\n",
    "\n",
    "# TODO: Print the output from the feature statistic function.\n",
    "print(features_staststic)\n",
    "print(test_features_staststic)\n"
   ]
  },
  {
   "cell_type": "markdown",
   "metadata": {},
   "source": [
    "### 4) Gaussian probability density function (Gaussian PDF)\n",
    "\n",
    "Now we need to implement the gaussian probability density function to use for a single datapoint.\n",
    "\n",
    "**Note:** Look at the imports in the first cell at the top, it has some math numbers for easy use here. "
   ]
  },
  {
   "cell_type": "code",
   "execution_count": 10,
   "metadata": {},
   "outputs": [],
   "source": [
    "def gaussian_probability_density_function(x, means, stdevs):\n",
    "    exponent = e**(-((x-means)** 2/(2*stdevs**2 ))) \n",
    "    prob_density = (1/(sqrt(2*pi)*stdevs)) * exponent\n",
    "    return prob_density"
   ]
  },
  {
   "cell_type": "markdown",
   "metadata": {},
   "source": [
    "### 5) Testing Gaussian PDF"
   ]
  },
  {
   "cell_type": "markdown",
   "metadata": {},
   "source": []
  },
  {
   "cell_type": "markdown",
   "metadata": {},
   "source": [
    "We should test it to make sure it works. Train it, using the \"calculate_feature_statistics\" function, on one of the dataset classes. Then, take one datapoint from the same class and use naive bayes gaussian to make a prediction."
   ]
  },
  {
   "cell_type": "code",
   "execution_count": 11,
   "metadata": {},
   "outputs": [
    {
     "name": "stdout",
     "output_type": "stream",
     "text": [
      "\n",
      "Probability density:\n",
      " sepal_length    1.085434\n",
      "sepal_width     1.080327\n",
      "petal_length    2.171270\n",
      "petal_width     3.793999\n",
      "dtype: float64\n"
     ]
    }
   ],
   "source": [
    "# TODO: Implement the code below to test the \"gaussian_probability_density_function\" function for one of the classes.\n",
    "feature_stats = calculate_feature_statistics(train_features)\n",
    "means = feature_stats[\"mean\"]\n",
    "std = feature_stats[\"std\"]\n",
    "test_datapoint = train_features[0]\n",
    "# TODO: Test with one datapoint from the learned class.\n",
    "prob_density = gaussian_probability_density_function(test_datapoint, means, std)\n",
    "\n",
    "# TODO: Print the probability density\n",
    "print(\"\\nProbability density:\\n\", prob_density)"
   ]
  },
  {
   "cell_type": "markdown",
   "metadata": {},
   "source": [
    "As a test, take one datapoint from one of the other classes and see if the predicted probability changes."
   ]
  },
  {
   "cell_type": "code",
   "execution_count": 12,
   "metadata": {},
   "outputs": [
    {
     "name": "stdout",
     "output_type": "stream",
     "text": [
      "\n",
      "other probability density:\n",
      " sepal_length    0.000002\n",
      "sepal_width     0.708444\n",
      "petal_length         0.0\n",
      "petal_width          0.0\n",
      "dtype: object\n"
     ]
    }
   ],
   "source": [
    "# TODO: Take one datapoint from one of the other classes.\n",
    "\n",
    "other_class_datapoint = iris_versicolor[2, :-1]\n",
    "\n",
    "# TODO: Use naive bayes gaussian on this datapoint with the same feature statistics as the first class.\n",
    "other_prob_dencity = gaussian_probability_density_function(other_class_datapoint, means, std)\n",
    "\n",
    "# TODO: Print the probability\n",
    "print(\"\\nother probability density:\\n\", other_prob_dencity)"
   ]
  },
  {
   "cell_type": "markdown",
   "metadata": {},
   "source": [
    "Think a bit why the probability changes, what could affect the prediction?"
   ]
  },
  {
   "cell_type": "markdown",
   "metadata": {},
   "source": [
    "## Prepare Naive Bayes for binary classification"
   ]
  },
  {
   "cell_type": "markdown",
   "metadata": {},
   "source": [
    "### 6) Prepare the data for inference\n",
    "\n",
    "Before we train and test the naive bayes for multiple classes, we should get our data in order.\n",
    "\n",
    "Similar to how we did previously, we should now split two classes into a train and test set, you may choose which two classes freely."
   ]
  },
  {
   "cell_type": "code",
   "execution_count": 13,
   "metadata": {},
   "outputs": [],
   "source": [
    "# TODO: Split two classes into train and test sets.\n",
    "# TODO: Sepearte the features and lables for both the train and test set.\n",
    "train_feature_versicolor, train_lable_versicolor = class_split(train_test_split(iris_versicolor)[0])\n",
    "test_feature_versicolor, test_lable_versicolor = class_split(train_test_split(iris_versicolor)[1])\n",
    "\n",
    "train_feature_virginica, test_lable_virginica = class_split(train_test_split(iris_virginica)[0])\n",
    "test_feature_virginica, test_lable_virginica = class_split(train_test_split(iris_virginica)[1])\n",
    "\n"
   ]
  },
  {
   "cell_type": "markdown",
   "metadata": {},
   "source": [
    "### 7) Class A vs Class B for binary classification\n",
    "\n",
    "**Note:** You might need to go back and forth a bit in the following cells during your implementation of your code.\n",
    "\n",
    "We have to get the probability from two sets of classes and compare the two probabilities in order to make a propper prediction.\n",
    "\n",
    "Here we will implement two functions to make this possible. We seperate these functions to make the implementation of the ROC-curve easier later on.\n",
    "\n",
    "**Function 1: naive_bayes_prediction** \n",
    "* A function that returns the probabilities for each class the model for a single datapoint.\n",
    "\n",
    "**Function 2: probabilities_to_prediction**\n",
    "* A function that takes in probabilities and returns a prediction."
   ]
  },
  {
   "cell_type": "code",
   "execution_count": 14,
   "metadata": {},
   "outputs": [],
   "source": [
    "def naive_bayes_prediction(feature_stats, test_datapoint, priors):\n",
    "    # TODO: Implement the rest of this function. Make use of previous functions that you have implemented.\n",
    "    prediction_probabilities = {}\n",
    "   \n",
    "    # Calculate the probability of each class  \n",
    "    for class_label, stats in feature_stats.items():\n",
    "        mean = np.array(stats[\"mean\"])\n",
    "        std = np.array(stats[\"std\"])\n",
    "        probility_densityt = gaussian_probability_density_function(np.array(test_datapoint), mean, std)\n",
    "        likelihood = np.prod(probility_densityt)\n",
    "        prediction_probabilities[class_label] = likelihood * priors[class_label] \n",
    "         \n",
    "    # normalize the probabilities \n",
    "    total_probability = sum(prediction_probabilities.values()) \n",
    "    for class_label in prediction_probabilities:\n",
    "        prediction_probabilities[class_label] /= total_probability\n",
    "        \n",
    "    prediction_probabilities = pd.DataFrame([prediction_probabilities])\n",
    "    \n",
    "    return prediction_probabilities"
   ]
  },
  {
   "cell_type": "code",
   "execution_count": 15,
   "metadata": {},
   "outputs": [],
   "source": [
    "def probabilities_to_prediction(probabilities):\n",
    "\n",
    "    # TODO: Implement prediction of the class with the highest probability\n",
    "    \n",
    "    class_prediction = probabilities.idxmax(axis=1) \n",
    "    return class_prediction"
   ]
  },
  {
   "cell_type": "markdown",
   "metadata": {},
   "source": [
    "To test the function we need the feature metrics from the classes we choose. \n",
    "\n",
    "**Note:** Choose the correct train/test set and the correct feature/label split!\n"
   ]
  },
  {
   "cell_type": "code",
   "execution_count": 16,
   "metadata": {},
   "outputs": [],
   "source": [
    "# TODO: Get the feature metrics for the classes\n",
    "\n",
    "state_versicolor = calculate_feature_statistics(train_feature_versicolor)\n",
    "state_virginica = calculate_feature_statistics(train_feature_virginica)\n"
   ]
  },
  {
   "cell_type": "markdown",
   "metadata": {},
   "source": [
    "Now we should have implemented all the neccessary parts to train a naive bayes algorithm and do inference on it. Implement a small test workflow for two of your chosen classes."
   ]
  },
  {
   "cell_type": "code",
   "execution_count": 17,
   "metadata": {},
   "outputs": [
    {
     "name": "stdout",
     "output_type": "stream",
     "text": [
      "\n",
      "Predicted probabilities for test data:\n",
      "     class_A   class_B\n",
      "0  0.999711  0.000289\n",
      "Predicted class:\n",
      " 0    class_A\n",
      "dtype: object\n",
      "True class: A\n",
      "\n",
      "\n",
      "Predicted probabilities for test data:\n",
      "     class_A   class_B\n",
      "0  0.988676  0.011324\n",
      "Predicted class:\n",
      " 0    class_A\n",
      "dtype: object\n",
      "True class: A\n",
      "\n",
      "\n",
      "Predicted probabilities for test data:\n",
      "    class_A  class_B\n",
      "0  0.99991  0.00009\n",
      "Predicted class:\n",
      " 0    class_A\n",
      "dtype: object\n",
      "True class: A\n",
      "\n",
      "\n",
      "Predicted probabilities for test data:\n",
      "     class_A   class_B\n",
      "0  0.999998  0.000002\n",
      "Predicted class:\n",
      " 0    class_A\n",
      "dtype: object\n",
      "True class: A\n",
      "\n",
      "\n",
      "Predicted probabilities for test data:\n",
      "     class_A   class_B\n",
      "0  0.999632  0.000368\n",
      "Predicted class:\n",
      " 0    class_A\n",
      "dtype: object\n",
      "True class: A\n",
      "\n",
      "\n",
      "Predicted probabilities for test data:\n",
      "     class_A   class_B\n",
      "0  0.999701  0.000299\n",
      "Predicted class:\n",
      " 0    class_A\n",
      "dtype: object\n",
      "True class: A\n",
      "\n",
      "\n",
      "Predicted probabilities for test data:\n",
      "     class_A   class_B\n",
      "0  0.999453  0.000547\n",
      "Predicted class:\n",
      " 0    class_A\n",
      "dtype: object\n",
      "True class: A\n",
      "\n",
      "\n",
      "Predicted probabilities for test data:\n",
      "     class_A   class_B\n",
      "0  0.998561  0.001439\n",
      "Predicted class:\n",
      " 0    class_A\n",
      "dtype: object\n",
      "True class: A\n",
      "\n",
      "\n",
      "Predicted probabilities for test data:\n",
      "     class_A   class_B\n",
      "0  0.999996  0.000004\n",
      "Predicted class:\n",
      " 0    class_A\n",
      "dtype: object\n",
      "True class: A\n",
      "\n",
      "\n",
      "Predicted probabilities for test data:\n",
      "     class_A   class_B\n",
      "0  0.999668  0.000332\n",
      "Predicted class:\n",
      " 0    class_A\n",
      "dtype: object\n",
      "True class: A\n",
      "\n",
      "\n",
      "Predicted probabilities for test data:\n",
      "         class_A  class_B\n",
      "0  9.893595e-08      1.0\n",
      "Predicted class:\n",
      " 0    class_B\n",
      "dtype: object\n",
      "True class: B\n",
      "\n",
      "\n",
      "Predicted probabilities for test data:\n",
      "     class_A   class_B\n",
      "0  0.000007  0.999993\n",
      "Predicted class:\n",
      " 0    class_B\n",
      "dtype: object\n",
      "True class: B\n",
      "\n",
      "\n",
      "Predicted probabilities for test data:\n",
      "     class_A   class_B\n",
      "0  0.054128  0.945872\n",
      "Predicted class:\n",
      " 0    class_B\n",
      "dtype: object\n",
      "True class: B\n",
      "\n",
      "\n",
      "Predicted probabilities for test data:\n",
      "         class_A  class_B\n",
      "0  5.651072e-08      1.0\n",
      "Predicted class:\n",
      " 0    class_B\n",
      "dtype: object\n",
      "True class: B\n",
      "\n",
      "\n",
      "Predicted probabilities for test data:\n",
      "         class_A  class_B\n",
      "0  5.388553e-09      1.0\n",
      "Predicted class:\n",
      " 0    class_B\n",
      "dtype: object\n",
      "True class: B\n",
      "\n",
      "\n",
      "Predicted probabilities for test data:\n",
      "     class_A   class_B\n",
      "0  0.000008  0.999992\n",
      "Predicted class:\n",
      " 0    class_B\n",
      "dtype: object\n",
      "True class: B\n",
      "\n",
      "\n",
      "Predicted probabilities for test data:\n",
      "     class_A   class_B\n",
      "0  0.062209  0.937791\n",
      "Predicted class:\n",
      " 0    class_B\n",
      "dtype: object\n",
      "True class: B\n",
      "\n",
      "\n",
      "Predicted probabilities for test data:\n",
      "     class_A   class_B\n",
      "0  0.001668  0.998332\n",
      "Predicted class:\n",
      " 0    class_B\n",
      "dtype: object\n",
      "True class: B\n",
      "\n",
      "\n",
      "Predicted probabilities for test data:\n",
      "     class_A   class_B\n",
      "0  0.000003  0.999997\n",
      "Predicted class:\n",
      " 0    class_B\n",
      "dtype: object\n",
      "True class: B\n",
      "\n",
      "\n",
      "Predicted probabilities for test data:\n",
      "     class_A   class_B\n",
      "0  0.109195  0.890805\n",
      "Predicted class:\n",
      " 0    class_B\n",
      "dtype: object\n",
      "True class: B\n",
      "\n"
     ]
    }
   ],
   "source": [
    "# TODO: Test the \"naive_bayes_prediction\" function and implement all necessary code for it to work.\n",
    "\n",
    "feature_stats = {\n",
    "\t\t\"class_A\": state_versicolor,\n",
    "\t\t\"class_B\": state_virginica\n",
    "}\n",
    "\n",
    "priors = {\n",
    "\t\"class_A\": len(train_feature_versicolor) / (len(train_feature_versicolor) + len(train_feature_virginica)),\n",
    "\t\"class_B\": len(train_feature_virginica) / (len(train_feature_versicolor) + len(train_feature_virginica))\n",
    "}\n",
    "\n",
    "i = 0\n",
    "predicted_probabilities = pd.DataFrame(columns=[\"class_A\", \"class_B\"])\n",
    "for test_datapoint in test_feature_versicolor:\n",
    "\tvrsclr_pred = naive_bayes_prediction(feature_stats, test_datapoint, priors)\n",
    "\tprint(\"\\nPredicted probabilities for test data:\\n\", vrsclr_pred)\n",
    "\tpredicted_probabilities.loc[i] = vrsclr_pred.loc[0]\n",
    "\tpredicted_class = probabilities_to_prediction(vrsclr_pred)\n",
    "\tprint(f\"Predicted class:\\n {predicted_class}\")\n",
    "\tprint(f\"True class: A\\n\")\n",
    "\ti += 1\n",
    "\n",
    "for test_datapoint in test_feature_virginica:\n",
    "\tvgnc_pred = naive_bayes_prediction(feature_stats, test_datapoint, priors)\n",
    "\tprint(\"\\nPredicted probabilities for test data:\\n\", vgnc_pred)\n",
    "\tpredicted_probabilities.loc[i] = vgnc_pred.loc[0]\n",
    "\tpredicted_class = probabilities_to_prediction(vgnc_pred)\n",
    "\tprint(f\"Predicted class:\\n {predicted_class}\")\n",
    "\tprint(f\"True class: B\\n\")\n",
    "\ti += 1\n",
    "\n",
    "\n",
    "# TODO: Print the predicted class and the actual class for the test set\n"
   ]
  },
  {
   "cell_type": "markdown",
   "metadata": {},
   "source": [
    "## ROC-curve\n",
    "\n",
    "A ROC curve, or *Receiver Operating Characteristic curve*, is a graphical plot that illustrates the performance of a binary classifier such as our Naive Bayes model.\n",
    "\n",
    "More info can be found in the course material and here: [https://en.wikipedia.org/wiki/Receiver_operating_characteristic](https://en.wikipedia.org/wiki/Receiver_operating_characteristic)\n",
    "\n",
    "Another good illustration by Google can be found here: [https://developers.google.com/machine-learning/crash-course/classification/roc-and-auc](https://developers.google.com/machine-learning/crash-course/classification/roc-and-auc)\n",
    "\n",
    "Now that we have a prediction model, we would want to try it out and test it using a ROC-curve."
   ]
  },
  {
   "cell_type": "markdown",
   "metadata": {},
   "source": [
    "### 8) True Positive Rate (TPR) and False Positive Rate (FPR)\n",
    "\n",
    "From our prediction function we get probabilities, and for prediction purposes we have just predicted the one with the highest probability.\n",
    "\n",
    "To plot a ROC-curve, we need the TPR and FPR for the binary classification. We will implement this here.\n",
    "\n",
    "**Note 1:** The threshold is is a value that goes from 0 to 1. \n",
    "\n",
    "**Note 2:** One of the two classes will be seen as \"the positive class\" (prediction over the threshold) and the other as \"the negative class\" (prediction under the threshold).\n",
    "\n",
    "**Note 3:** The threshold stepsize will decide the size of the returned TPR/FPR list. A value of 0.1 will give 10 elements (0 to 1 in increments of 0.1)"
   ]
  },
  {
   "cell_type": "code",
   "execution_count": 18,
   "metadata": {},
   "outputs": [
    {
     "name": "stdout",
     "output_type": "stream",
     "text": [
      "Python list: [0.0, 0.1, 0.2, 0.3, 0.4, 0.5, 0.6, 0.7, 0.8, 0.9]\n",
      "Numpy linspace: [0.  0.1 0.2 0.3 0.4 0.5 0.6 0.7 0.8 0.9 1. ]\n",
      "Numpy linspace (no endpoint): [0.  0.1 0.2 0.3 0.4 0.5 0.6 0.7 0.8 0.9]\n"
     ]
    }
   ],
   "source": [
    "# Stepsize demonstration\n",
    "print(\"Python list:\", [x/10 for x in range(0,10,1)])\n",
    "\n",
    "# Stepsize demonstration with numpy:\n",
    "print(\"Numpy linspace:\", np.linspace(0,1,11))\n",
    "print(\"Numpy linspace (no endpoint):\", np.linspace(0,1,10,endpoint=False))"
   ]
  },
  {
   "cell_type": "code",
   "execution_count": 19,
   "metadata": {},
   "outputs": [],
   "source": [
    "def TPR_and_FPR(prediction_probabilities, test_labels, threshold_stepsize):\n",
    "     \n",
    "    thresholds = np.linspace(0, 1, int(1/threshold_stepsize) + 1)\n",
    "    # TODO: Implement the rest of this function\n",
    "    \n",
    "    TPR = []\n",
    "    FPR = []\n",
    "    for threshold in thresholds:\n",
    "        tp = fn=fp =tn = 0\n",
    "        for i in range(len(prediction_probabilities)):\n",
    "            pred_prob = prediction_probabilities.loc[i, \"class_A\"] \n",
    "            if pred_prob > threshold:\n",
    "                if test_labels[i] == 'class_A':\n",
    "                    tp += 1\n",
    "                else:\n",
    "                    fp += 1\n",
    "            else:\n",
    "                if test_labels[i] == 'class_A':\n",
    "                    fn += 1\n",
    "                else:\n",
    "                    tn += 1\n",
    "        \n",
    "        TPR.append(tp / (tp + fn) if (tp + fn) != 0 else 0)\n",
    "        FPR.append(fp / (fp + tn) if (fp + tn) != 0 else 0)\n",
    "        \n",
    "    return TPR, FPR"
   ]
  },
  {
   "cell_type": "code",
   "execution_count": 20,
   "metadata": {},
   "outputs": [
    {
     "name": "stdout",
     "output_type": "stream",
     "text": [
      "\n",
      "TPR:  [1.0, 1.0, 1.0, 1.0, 1.0, 1.0, 1.0, 1.0, 1.0, 1.0, 0.0]\n",
      "\n",
      "FPR:  [1.0, 0.1, 0.0, 0.0, 0.0, 0.0, 0.0, 0.0, 0.0, 0.0, 0.0]\n"
     ]
    }
   ],
   "source": [
    "# Convert test labels to binary format (1 for iris_versicolor, 0 for iris_virginica)\n",
    "tabl_A = ['class_A']*10  # versicolor \n",
    "tabl_B = ['class_B']*10  # virginica\n",
    "test_labels = tabl_A + tabl_B\n",
    "\n",
    "thrashold_stepsize = 0.1\n",
    "# TODO: Test the \"TPR_and_FPR\" function on the model you have created previously.\n",
    "TPR, FPR = TPR_and_FPR(predicted_probabilities, test_labels, thrashold_stepsize)\n",
    "print(\"\\nTPR: \", TPR)\n",
    "print(\"\\nFPR: \", FPR)"
   ]
  },
  {
   "cell_type": "markdown",
   "metadata": {},
   "source": [
    "How does the values change if you change the threshold stepsize? \n",
    "\n",
    "How does the values change if you change the classes you compare?"
   ]
  },
  {
   "cell_type": "markdown",
   "metadata": {},
   "source": [
    "### 9) Plot the TPR and FPR\n",
    "\n",
    "To better see what is going on, we can plot the TPR and FPR. We can also calculate the Area Under the ROC Curve (AUC or AUROC) at the same time."
   ]
  },
  {
   "cell_type": "code",
   "execution_count": 21,
   "metadata": {},
   "outputs": [],
   "source": [
    "def plot_ROC(TPR, FPR):\n",
    "    trp = TPR[::-1]\n",
    "    fpr = FPR[::-1]\n",
    "    # TODO: Calculate the AUC score.\n",
    "    AUC =np.trapz(trp, fpr)\n",
    "    print(\"\\nAUC: \", AUC)\n",
    "\n",
    "    # TODO: Plot the TPR and FPR using plt (matplotlib)\n",
    "\n",
    "    # TODO: Add a \"middle-line\" in the plot. This can be seen as the \"better/worse than random\" line.\n",
    "\n",
    "    plt.plot(fpr, trp, marker='o')\n",
    "    plt.plot([0, 1], [0, 1], linestyle='--')\n",
    "    plt.xlabel(\"FPR\")\n",
    "    plt.ylabel(\"TPR\")\n",
    "    plt.title(\"ROC curve\")\n",
    "    plt.show()\n",
    "\n",
    "    pass # No need to return anything, remove this line once you are finished implementing."
   ]
  },
  {
   "cell_type": "code",
   "execution_count": 22,
   "metadata": {},
   "outputs": [
    {
     "name": "stdout",
     "output_type": "stream",
     "text": [
      "\n",
      "AUC:  1.0\n"
     ]
    },
    {
     "data": {
      "image/png": "[encoded data removed]",
      "text/plain": [
       "<Figure size 640x480 with 1 Axes>"
      ]
     },
     "metadata": {},
     "output_type": "display_data"
    }
   ],
   "source": [
    "# TODO: Test the plotting function on the TPR and FPR you just calculated.\n",
    "\n",
    "test = plot_ROC(TPR, FPR)"
   ]
  },
  {
   "cell_type": "markdown",
   "metadata": {},
   "source": [
    "## Cross-validation\n",
    "\n",
    "The final task is to take everything you have implemented so far and apply it in a cross-validation loop.\n",
    "\n",
    "**Note 1:** To better reflect a real scenarios, you should shuffle the data before doing cross-validation.\n",
    "\n",
    "**Note 2:** When using cross-validation, the interesting thing is the mean performance (mean AUC, mean accuracy, mean ROC-curve).\n",
    "\n",
    "**Note 3:** This part is a bit more free in terms of implementation, but make sure to use some of the previously implemented functions."
   ]
  },
  {
   "cell_type": "markdown",
   "metadata": {},
   "source": [
    "### 10) Cross-validation loop"
   ]
  },
  {
   "cell_type": "code",
   "execution_count": 23,
   "metadata": {},
   "outputs": [],
   "source": [
    "def cross_validation(data, target, folds = 10, threshold_stepsize = 0.1):\n",
    "    \n",
    "    # TODO: Implement Cross-validation\n",
    "    fold_size = len(data) // folds \n",
    "    \n",
    "    TPR = [] \n",
    "    FPR = [] \n",
    "    ACC = []\n",
    "    for i in range(folds):\n",
    "        # Implement the cross-validation logic here\n",
    "        start = i * fold_size  \n",
    "        end = (i + 1) * fold_size if (i + 1) * fold_size < len(data) else len(data) \n",
    "        \n",
    "        test_data, test_target = data[start:end], target[start:end]  \n",
    "        train_data = np.concatenate((data[:start], data[end:]), axis=0) \n",
    "        train_target = np.concatenate((target[:start], target[end:]), axis=0) \n",
    "               \n",
    "        # calculate the feature statistics for the training data \n",
    "        class_A_stats = calculate_feature_statistics(train_data[train_target == 'class_A']) \n",
    "        class_B_stats = calculate_feature_statistics(train_data[train_target == 'class_B'])\n",
    "        \n",
    "        feature_stats = {\n",
    "            'class_A': class_A_stats,\n",
    "            'class_B': class_B_stats\n",
    "        }\n",
    "        \n",
    "        unq, count = np.unique(train_target, return_counts=True) \n",
    "        \n",
    "        periors = {\n",
    "            'class_A': count[0] /len(train_target),\n",
    "            'class_B': count[1] /len(train_target)            \n",
    "        }\n",
    "        \n",
    "        accur_score = 0\n",
    "        # test the model \n",
    "        predicted_probabilities = pd.DataFrame(columns=[\"class_A\", \"class_B\"])\n",
    "        for i, point in enumerate(test_data):\n",
    "            prob = naive_bayes_prediction(feature_stats, point, periors)\n",
    "            predicted_probabilities.loc[i] = prob.loc[0]\n",
    "            \n",
    "\n",
    "            predicted_class = probabilities_to_prediction(prob)\n",
    "            index= np.where(test_data == point)[0][0]\n",
    "            true_class = test_target[index]\n",
    "            \n",
    "            if (predicted_class[0] == true_class):\n",
    "                accur_score += 1\n",
    "        \n",
    "        # calculate TPR and FPR\n",
    "        tpr, fpr = TPR_and_FPR(predicted_probabilities, test_target, threshold_stepsize) \n",
    "        TPR.append(tpr)\n",
    "        FPR.append(fpr)\n",
    "        \n",
    "        accurancy = accur_score / len(test_data)\n",
    "        ACC.append(accurancy)\n",
    "           \n",
    "    mean_tpr= np.mean(TPR, axis=0)\n",
    "    mean_fpr = np.mean(FPR, axis=0)\n",
    "    mean_acc = np.mean(ACC)\n",
    "    print(\"\\nMean accuracy: \", mean_acc)\n",
    "    \n",
    "    plot_ROC(mean_tpr, mean_fpr)\n",
    " "
   ]
  },
  {
   "cell_type": "markdown",
   "metadata": {},
   "source": [
    "### 11) 10-fold Cross-validation on all classes\n",
    "\n",
    "Test the \"cross_validation\" function on all the classes against eachother using 10 folds.\n",
    "\n",
    "* Iris-setosa vs Iris-versicolor\n",
    "* Iris-setosa vs Iris-virginica\n",
    "* Iris-versicolor vs Iris-virginica"
   ]
  },
  {
   "cell_type": "code",
   "execution_count": 24,
   "metadata": {},
   "outputs": [
    {
     "name": "stdout",
     "output_type": "stream",
     "text": [
      "\n",
      "Mean accuracy:  0.9400000000000001\n",
      "\n",
      "AUC:  1.0\n"
     ]
    },
    {
     "data": {
      "image/png": "[encoded data removed]",
      "text/plain": [
       "<Figure size 640x480 with 1 Axes>"
      ]
     },
     "metadata": {},
     "output_type": "display_data"
    }
   ],
   "source": [
    "# TODO: Implement and test cross-validation function on all classes.\n",
    "data = pd.read_csv(\"iris.csv\").to_numpy()\n",
    "df = pd.DataFrame(data, columns=[\"sepal_length\", \"sepal_width\", \"petal_length\", \"petal_width\", \"class\"])\n",
    "\n",
    "df_setosa_variscolor_colomun = df[df['class'].isin(['Iris-setosa', 'Iris-versicolor'])]\n",
    "shuffled = df_setosa_variscolor_colomun.sample(frac=1)\n",
    "shuffl_data = shuffled.iloc[:, :-1].values\n",
    "shuffl_target = shuffled['class'].apply(lambda x: \"class_A\" if x == 'Iris-setosa' else \"class_B\").values\n",
    "\n",
    "\n",
    "set_vs_ver = cross_validation(shuffl_data, shuffl_target)\n"
   ]
  },
  {
   "cell_type": "code",
   "execution_count": 28,
   "metadata": {},
   "outputs": [
    {
     "name": "stdout",
     "output_type": "stream",
     "text": [
      "\n",
      "Mean accuracy:  0.9400000000000001\n",
      "\n",
      "AUC:  0.9833333333333332\n"
     ]
    },
    {
     "data": {
      "image/png": "[encoded data removed]",
      "text/plain": [
       "<Figure size 640x480 with 1 Axes>"
      ]
     },
     "metadata": {},
     "output_type": "display_data"
    }
   ],
   "source": [
    "# TODO: Implement and test cross-validation function on all classes.\n",
    "#data = pd.read_csv(\"iris.csv\").to_numpy()\n",
    "df = pd.DataFrame(data, columns=[\"sepal_length\", \"sepal_width\", \"petal_length\", \"petal_width\", \"class\"])\n",
    "\n",
    "df_setosa_variscolor_colomun = df[df['class'].isin(['Iris-setosa', 'Iris-virginica'])]\n",
    "shuffled = df_setosa_variscolor_colomun.sample(frac=1)\n",
    "shuffl_data = shuffled.iloc[:, :-1].values\n",
    "shuffl_target = shuffled['class'].apply(lambda x: \"class_A\" if x == 'Iris-setosa' else \"class_B\").values\n",
    "\n",
    "set_vs_ver = cross_validation(shuffl_data, shuffl_target)\n"
   ]
  },
  {
   "cell_type": "code",
   "execution_count": 33,
   "metadata": {},
   "outputs": [
    {
     "name": "stdout",
     "output_type": "stream",
     "text": [
      "\n",
      "Mean accuracy:  0.8099999999999999\n",
      "\n",
      "AUC:  0.9634787698412698\n"
     ]
    },
    {
     "data": {
      "image/png": "[encoded data removed]",
      "text/plain": [
       "<Figure size 640x480 with 1 Axes>"
      ]
     },
     "metadata": {},
     "output_type": "display_data"
    }
   ],
   "source": [
    "# TODO: Implement and test cross-validation function on all classes.\n",
    "\n",
    "#data = pd.read_csv(\"iris.csv\").to_numpy()\n",
    "df = pd.DataFrame(data, columns=[\"sepal_length\", \"sepal_width\", \"petal_length\", \"petal_width\", \"class\"])\n",
    "\n",
    "df_setosa_variscolor_colomun = df[df['class'].isin(['Iris-versicolor', 'Iris-virginica'])]\n",
    "shuffled = df_setosa_variscolor_colomun.sample(frac=1)\n",
    "shuffl_data = shuffled.iloc[:, :-1].values\n",
    "shuffl_target = shuffled['class'].apply(lambda x: \"class_A\" if x == 'Iris-versicolor' else \"class_B\").values\n",
    "\n",
    "set_vs_ver = cross_validation(shuffl_data, shuffl_target)\n"
   ]
  },
  {
   "cell_type": "markdown",
   "metadata": {},
   "source": [
    "# Questions for examination:\n",
    "\n",
    "In addition to completing the assignment with all its tasks, you should also prepare to answer the following questions:\n",
    "\n",
    "1) Why is it called \"naive bayes\"?\n",
    "\n",
    "2) What are some downsides of the naive bayes learning algorithm?\n",
    "\n",
    "3) When using ROC-curves, what is the theoretical best and worst result you can get?\n",
    "\n",
    "4) When using ROC-curves, in this assignment for example, is a higher threshold-stepsize always better?  \n",
    "\n",
    "5) When using cross-validation and ROC-curves, why is it important to take the correct mean values? What could go wrong?\n"
   ]
  },
  {
   "cell_type": "markdown",
   "metadata": {},
   "source": [
    "# Finished!\n",
    "\n",
    "Was part of the setup incorrect? Did you spot any inconsistencies in the assignment? Could something improve?\n",
    "\n",
    "If so, please write them and send via email and send it to:\n",
    "\n",
    "* marcus.gullstrand@ju.se\n",
    "\n",
    "Thank you!"
   ]
  }
 ],
 "metadata": {
  "kernelspec": {
   "display_name": "Python 3",
   "language": "python",
   "name": "python3"
  },
  "language_info": {
   "codemirror_mode": {
    "name": "ipython",
    "version": 3
   },
   "file_extension": ".py",
   "mimetype": "text/x-python",
   "name": "python",
   "nbconvert_exporter": "python",
   "pygments_lexer": "ipython3",
   "version": "3.8.20"
  }
 },
 "nbformat": 4,
 "nbformat_minor": 4
}
